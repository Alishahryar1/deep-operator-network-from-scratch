{
 "cells": [
  {
   "cell_type": "code",
   "execution_count": 2,
   "id": "8a0ab135-faaf-4478-b4cb-5b75d1d669f1",
   "metadata": {},
   "outputs": [],
   "source": [
    "import numpy as np\n",
    "from scipy.integrate import solve_ivp\n",
    "from numba import jit\n",
    "import h5py\n",
    "from matplotlib import pyplot as plt\n",
    "from findiff import FinDiff\n",
    "from IPython.display import clear_output"
   ]
  },
  {
   "cell_type": "code",
   "execution_count": 3,
   "id": "c6075dc2-921e-41cd-b383-431543c031f2",
   "metadata": {},
   "outputs": [],
   "source": [
    "X = 100\n",
    "T = 100\n",
    "a1s = np.linspace(1e-4, 1e-1, 10, dtype = 'float64')\n",
    "a2s = np.linspace(1.0, 10.0, 10, dtype = 'float64')\n",
    "data = np.zeros((len(a1s) * len(a2s) * X * T, 5), dtype = 'float64')\n",
    "xs = np.linspace(-1.0, 1.0, X, dtype = 'float64')\n",
    "ts = np.linspace(0.0, 1.0, T, dtype = 'float64')\n",
    "dx = xs[1] - xs[0]\n",
    "dt = ts[1] - ts[0]\n",
    "d2_dx2 = FinDiff(0, dx, 2)\n",
    "u_0 = xs * xs * np.cos(np.pi * xs)"
   ]
  },
  {
   "cell_type": "code",
   "execution_count": 4,
   "id": "32a119d2",
   "metadata": {},
   "outputs": [
    {
     "data": {
      "text/plain": [
       "array([-1. , -0.5,  0. ,  0.5,  1. ])"
      ]
     },
     "execution_count": 4,
     "metadata": {},
     "output_type": "execute_result"
    }
   ],
   "source": [
    "xs"
   ]
  },
  {
   "cell_type": "code",
   "execution_count": 7,
   "id": "f419df76-7221-4e22-bc7d-adb988cb53e1",
   "metadata": {},
   "outputs": [],
   "source": [
    "x_tiles = np.tile(xs, T)\n",
    "t_repeats = np.repeat(ts, X)"
   ]
  },
  {
   "cell_type": "code",
   "execution_count": 8,
   "id": "5b1e142d-7ea7-4491-8fdf-755797fb0d98",
   "metadata": {},
   "outputs": [],
   "source": [
    "@jit(forceobj = True)\n",
    "def u_t(t, u, a1, a2, dx):\n",
    "    u_xx = d2_dx2(u)\n",
    "    return (a1 * u_xx) - (a2 * (u ** 3 - u))"
   ]
  },
  {
   "cell_type": "code",
   "execution_count": 9,
   "id": "ea760eae-2494-4fd7-a178-23539655ef9f",
   "metadata": {},
   "outputs": [
    {
     "name": "stdout",
     "output_type": "stream",
     "text": [
      "100\n"
     ]
    }
   ],
   "source": [
    "with h5py.File('observations_sparse.hf', 'w') as file:\n",
    "    i = 0\n",
    "    ob = 1\n",
    "    for a1 in a1s:\n",
    "        for a2 in a2s:\n",
    "            end = i + (X * T)\n",
    "            data[i:end, 0], data[i:end, 1], data[i:end, 2], data[i: end, 3] = x_tiles, t_repeats, a1, a2\n",
    "            sol = solve_ivp(u_t, t_span = [0.0, 1.0], t_eval = ts, y0 = u_0, args = (a1, a2, dx)).y.T.flatten()\n",
    "            data[i:end, 4] = sol\n",
    "            file['ob' + str(ob)] = data[i:end]\n",
    "            clear_output(wait = True)\n",
    "            print(ob)\n",
    "            ob += 1\n",
    "            i = end"
   ]
  }
 ],
 "metadata": {
  "kernelspec": {
   "display_name": "Python 3 (ipykernel)",
   "language": "python",
   "name": "python3"
  },
  "language_info": {
   "codemirror_mode": {
    "name": "ipython",
    "version": 3
   },
   "file_extension": ".py",
   "mimetype": "text/x-python",
   "name": "python",
   "nbconvert_exporter": "python",
   "pygments_lexer": "ipython3",
   "version": "3.10.11"
  }
 },
 "nbformat": 4,
 "nbformat_minor": 5
}
